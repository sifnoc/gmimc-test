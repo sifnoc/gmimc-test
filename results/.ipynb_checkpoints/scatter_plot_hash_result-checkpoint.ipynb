{
 "cells": [
  {
   "cell_type": "markdown",
   "id": "341f12ac",
   "metadata": {},
   "source": [
    "# Visualize hash outputs\n",
    "\n",
    "\n",
    "## gMiMC hash\n",
    "\n",
    "In our current efforts towards the cryptanalysis of the generalized MiMC hash function, we are attempting to visualize the hash outputs in Cartesian coordinates.\n",
    "\n",
    "I referenced a implementation of the hash function from [STARKWARE hash challenge](https://starkware.co/hash-challenge-implementation-reference-code/) and [GuildOfWeavers/distaff](https://github.com/GuildOfWeavers/distaff)\n",
    "\n",
    "For our initial attempt, we are observing the visualized images of hash outputs that are produced using a small number of primes within the finite field.\n"
   ]
  },
  {
   "cell_type": "code",
   "execution_count": 2,
   "id": "09a7f9e6",
   "metadata": {},
   "outputs": [],
   "source": [
    "// :dep plotters = { version = \"^0.3.0\", default_features = false, features = [\"evcxr\", \"all_series\"] }\n",
    ":dep ff = { version = \"0.13\", features = [\"derive\"] }\n",
    ":dep gmimc_rust_test = { package = \"gmimc-rust-test\", path = \"../\" }"
   ]
  },
  {
   "cell_type": "code",
   "execution_count": 7,
   "id": "4d3a32a8",
   "metadata": {},
   "outputs": [
    {
     "name": "stdout",
     "output_type": "stream",
     "text": [
      "result: [5, 23, 22, 14]\n"
     ]
    }
   ],
   "source": [
    "extern crate ff::PrimeField;\n",
    "extern crate gmimc_rust_test;\n",
    "\n",
    "use gmimc_rust_test::{gmimc};\n",
    "\n",
    "fn mimc_test() {\n",
    "    #[derive(PrimeField)]\n",
    "    #[PrimeFieldModulus = \"27\"]\n",
    "    #[PrimeFieldGenerator = \"3\"]\n",
    "    #[PrimeFieldReprEndianness = \"little\"]\n",
    "    struct F([u64; 1]);\n",
    "    \n",
    "    let mimc = gmimc::gmimc_erf::<F> {\n",
    "            capacity: 3,\n",
    "            words: 2,\n",
    "            round: 121,\n",
    "            _field: std::marker::PhantomData::<F>,\n",
    "        };\n",
    "\n",
    "    let result = mimc.get_hash_output(&[1u128, 2, 3, 4]);\n",
    "    println!(\"result: {:?}\", result);\n",
    "}\n",
    "\n",
    "mimc_test();"
   ]
  },
  {
   "cell_type": "code",
   "execution_count": null,
   "id": "ec6fb7d5",
   "metadata": {},
   "outputs": [],
   "source": [
    ":help"
   ]
  },
  {
   "cell_type": "code",
   "execution_count": null,
   "id": "4c70b392",
   "metadata": {},
   "outputs": [],
   "source": []
  }
 ],
 "metadata": {
  "kernelspec": {
   "display_name": "Rust",
   "language": "rust",
   "name": "rust"
  },
  "language_info": {
   "codemirror_mode": "rust",
   "file_extension": ".rs",
   "mimetype": "text/rust",
   "name": "Rust",
   "pygment_lexer": "rust",
   "version": ""
  }
 },
 "nbformat": 4,
 "nbformat_minor": 5
}
